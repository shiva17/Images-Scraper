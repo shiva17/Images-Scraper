{
 "cells": [
  {
   "cell_type": "markdown",
   "metadata": {},
   "source": [
    "  <tr>\n",
    "        <td width=\"60%\">\n",
    "            <img src=\"data_scraping.png\">\n",
    "        </td>\n",
    "        <td>\n",
    "            <div align=\"center\">\n",
    "                <font size=24px>\n",
    "                    <b> Project: Scrape Images From a Webpage\n",
    "                    </b>\n",
    "                </font>\n",
    "            </div>\n",
    "        </td>\n",
    "    </tr>"
   ]
  },
  {
   "cell_type": "code",
   "execution_count": null,
   "metadata": {},
   "outputs": [],
   "source": [
    "# libraries for Web Scrapping\n",
    "import requests\n",
    "from bs4 import BeautifulSoup\n",
    "\n",
    "# library for advance string manipulation\n",
    "import string\n",
    "\n",
    "# library for data manipulation\n",
    "import pandas as pd\n",
    "\n",
    "# library for advance mathematical operations\n",
    "import numpy as np\n",
    "\n",
    "# importing os module \n",
    "import os \n",
    "\n",
    "import urllib.request\n",
    "\n",
    "# library for progress bar\n",
    "from tqdm import tqdm"
   ]
  },
  {
   "cell_type": "markdown",
   "metadata": {},
   "source": [
    "## Understanding the Code Step-By-Step"
   ]
  },
  {
   "cell_type": "code",
   "execution_count": null,
   "metadata": {},
   "outputs": [],
   "source": [
    "# provide the query you want to search\n",
    "query = input('Enter the category of the images: ')"
   ]
  },
  {
   "cell_type": "code",
   "execution_count": null,
   "metadata": {},
   "outputs": [],
   "source": [
    "# Directory \n",
    "directory = input('Enter the directory name: ')\n",
    "  \n",
    "# Parent Directory path \n",
    "parent_dir = \"F://Study//Projects//Covid 2020 Project//Projects//\"\n",
    "  \n",
    "# Path \n",
    "path = os.path.join(parent_dir, directory)\n",
    "\n",
    "# create a folder\n",
    "try:  \n",
    "    os.mkdir(path)  \n",
    "except OSError as error:  \n",
    "    print(error) "
   ]
  },
  {
   "cell_type": "code",
   "execution_count": null,
   "metadata": {},
   "outputs": [],
   "source": [
    "# the page takes the query in the format \"word1-word2\" i.e. the words separated by a hyphen\n",
    "# but our query will be \"word1 word2\" i.e. the words separated by a space\n",
    "query = query.replace(' ', '-')\n",
    "query"
   ]
  },
  {
   "cell_type": "code",
   "execution_count": null,
   "metadata": {},
   "outputs": [],
   "source": [
    "# extract the page as a whole\n",
    "page = requests.get(\"https://www.gettyimages.in/photos/{}\".format(query))\n",
    "\n",
    "# parse the whole page using a html parser\n",
    "soup = BeautifulSoup(page.content, 'html.parser')\n",
    "# soup"
   ]
  },
  {
   "cell_type": "markdown",
   "metadata": {},
   "source": [
    "### Extract the html code for class : gallery-mosaic-asset__figure"
   ]
  },
  {
   "cell_type": "code",
   "execution_count": null,
   "metadata": {},
   "outputs": [],
   "source": [
    "# find_all() searches for the all the tags where the class \"gallery-mosaic-asset__figure\" is found and \n",
    "# returns a list of all the occurences \n",
    "all_cases = soup.findAll(class_=\"gallery-mosaic-asset__figure\")\n",
    "\n",
    "# find the length of the elements extracted\n",
    "len(all_cases)"
   ]
  },
  {
   "cell_type": "code",
   "execution_count": null,
   "metadata": {},
   "outputs": [],
   "source": [
    "# get the first html element from the list all_cases\n",
    "all_cases[0].findAll(\"img\")[0]"
   ]
  },
  {
   "cell_type": "code",
   "execution_count": null,
   "metadata": {},
   "outputs": [],
   "source": [
    "# get the image source link from the first html element\n",
    "all_cases[0].findAll(\"img\")[0].attrs.get(\"src\")"
   ]
  },
  {
   "cell_type": "code",
   "execution_count": null,
   "metadata": {},
   "outputs": [],
   "source": [
    "# write a for loop that appends the image source link from each html element from all_cases into the list 'urls'\n",
    "urls = []\n",
    "for index in range(len(all_cases)):\n",
    "    urls.append(all_cases[index].findAll(\"img\")[0].attrs.get(\"src\"))"
   ]
  },
  {
   "cell_type": "code",
   "execution_count": null,
   "metadata": {},
   "outputs": [],
   "source": [
    "# show the first 5 elements of the list\n",
    "urls[:5]"
   ]
  },
  {
   "cell_type": "code",
   "execution_count": null,
   "metadata": {},
   "outputs": [],
   "source": [
    "# download the first image\n",
    "urllib.request.urlretrieve(urls[0], \"F:\\Study\\Projects\\Covid 2020 Project\\Projects\\local-filename.jpg\")"
   ]
  },
  {
   "cell_type": "code",
   "execution_count": null,
   "metadata": {},
   "outputs": [],
   "source": [
    "# for loop to download all the images from the elements of the list all_cases\n",
    "for index_image in tqdm(range(len(urls))):\n",
    "    urllib.request.urlretrieve(urls[index_image], \"F:\\Study\\Projects\\Covid 2020 Project\\projects\\{}\\{}{}.jpg\".format(directory, query, index_image))"
   ]
  },
  {
   "cell_type": "markdown",
   "metadata": {},
   "source": [
    "## Complete Program To Extract The Images From The First Page"
   ]
  },
  {
   "cell_type": "code",
   "execution_count": null,
   "metadata": {},
   "outputs": [],
   "source": [
    "def extract_images():\n",
    "    # provide the query you want to search\n",
    "    query = input('Enter the category of the images: ')\n",
    "\n",
    "    # Directory \n",
    "    directory = input('Enter the directory name: ')\n",
    "\n",
    "    # Parent Directory path \n",
    "    parent_dir = \"F://Study//Projects//Covid 2020 Project//Projects//\"\n",
    "\n",
    "    # Path \n",
    "    path = os.path.join(parent_dir, directory)\n",
    "\n",
    "    # create a folder\n",
    "    try:  \n",
    "        os.mkdir(path)  \n",
    "    except OSError as error:  \n",
    "        print(error) \n",
    "\n",
    "    # the page takes the query in the format \"word1-word2\" i.e. the words separated by a hyphen\n",
    "    # but our query will be \"word1 word2\" i.e. the words separated by a space\n",
    "    query = query.replace(' ', '-')\n",
    "\n",
    "    page = requests.get(\"https://www.gettyimages.in/photos/{}/\".format(query))\n",
    "    soup = BeautifulSoup(page.content, 'html.parser')\n",
    "\n",
    "    # find() returns a single element\n",
    "    all_cases = soup.findAll(class_=\"gallery-mosaic-asset__figure\")\n",
    "    print(\"Total images found: \", len(all_cases))\n",
    "\n",
    "    urls = []\n",
    "    for index in range(len(all_cases)):\n",
    "        urls.append(all_cases[index].findAll(\"img\")[0].attrs.get(\"src\"))\n",
    "\n",
    "    for index_image in tqdm(range(len(urls))):\n",
    "        urllib.request.urlretrieve(urls[index_image], \"F:\\Study\\Projects\\Covid 2020 Project\\projects\\{}\\{}{}.jpg\".format(directory, query, index_image))\n",
    "\n",
    "    print('All images of {} saved in the provided directory. \\n Enjoy!!!'.format(query.replace('-', ' ')))"
   ]
  },
  {
   "cell_type": "code",
   "execution_count": null,
   "metadata": {},
   "outputs": [],
   "source": [
    "# execute the function\n",
    "extract_images()"
   ]
  },
  {
   "cell_type": "markdown",
   "metadata": {},
   "source": [
    "## Complete Program To Extract The Images From The Multiple Pages"
   ]
  },
  {
   "cell_type": "code",
   "execution_count": null,
   "metadata": {},
   "outputs": [],
   "source": [
    "def extract_images_from_multiple_pages():\n",
    "\n",
    "    query = input('Enter the category of the images: ')\n",
    "\n",
    "    # Directory \n",
    "    directory = input('Enter the directory name: ')\n",
    "    \n",
    "    total_pages = int(input('Enter the number of pages: '))\n",
    "\n",
    "    # Parent Directory path \n",
    "    parent_dir = \"F://Study//Projects//Covid 2020 Project//Projects//\"\n",
    "\n",
    "    # Path \n",
    "    path = os.path.join(parent_dir, directory)\n",
    "\n",
    "    # create a folder\n",
    "    try:  \n",
    "        os.mkdir(path)  \n",
    "    except OSError as error:  \n",
    "        print(error) \n",
    "\n",
    "    query = query.replace(' ', '-')\n",
    "    \n",
    "    global index_image_iter\n",
    "    index_image_iter = 0\n",
    "    for page_number in range(total_pages+1):\n",
    "        \n",
    "        page = requests.get(\"https://www.gettyimages.in/photos/{}?family=editorial&page={}\".format(query, page_number))\n",
    "        soup = BeautifulSoup(page.content, 'html.parser')\n",
    "\n",
    "        # find() returns a single element\n",
    "        all_cases = soup.findAll(class_=\"gallery-mosaic-asset__figure\")\n",
    "        print(\"Total images found: \", len(all_cases))\n",
    "\n",
    "        try:\n",
    "            urls = []\n",
    "            for index in range(len(all_cases)):\n",
    "                urls.append(all_cases[index].findAll(\"img\")[0].attrs.get(\"src\"))\n",
    "\n",
    "            # tqdm is for showing the iterations in the form of a loading progress bar\n",
    "            for index_image in tqdm(range(len(urls))):\n",
    "                urllib.request.urlretrieve(urls[index_image], \"F:\\Study\\Projects\\Covid 2020 Project\\projects\\{}\\{}{}.jpg\".format(directory, query, index_image_iter))\n",
    "                index_image_iter = index_image_iter + 1\n",
    "            \n",
    "            print('All images of {} for page number {} saved in the provided directory. \\n Enjoy!!!'.format(query.replace('-', ' '), page_number))\n",
    "            print('Total images scraped till now: ', index_image_iter)\n",
    "            \n",
    "        except:\n",
    "            print('There are no more images')\n",
    "    print('Final count of the images in the folder: ', index_image_iter)"
   ]
  },
  {
   "cell_type": "code",
   "execution_count": null,
   "metadata": {},
   "outputs": [],
   "source": [
    "# execute the function\n",
    "extract_images_from_multiple_pages()"
   ]
  }
 ],
 "metadata": {
  "kernelspec": {
   "display_name": "Python 3",
   "language": "python",
   "name": "python3"
  },
  "language_info": {
   "codemirror_mode": {
    "name": "ipython",
    "version": 3
   },
   "file_extension": ".py",
   "mimetype": "text/x-python",
   "name": "python",
   "nbconvert_exporter": "python",
   "pygments_lexer": "ipython3",
   "version": "3.7.4"
  }
 },
 "nbformat": 4,
 "nbformat_minor": 2
}
